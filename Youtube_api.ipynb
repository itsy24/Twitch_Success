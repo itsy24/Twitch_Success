{
 "cells": [
  {
   "cell_type": "code",
   "execution_count": 29,
   "id": "13fd026e",
   "metadata": {},
   "outputs": [],
   "source": [
    "# Import dependencies\n",
    "from googleapiclient.discovery import build\n",
    "import pandas as pd\n",
    "import pprint\n",
    "\n",
    "# Import api key\n",
    "from api_key import api_key\n",
    "\n",
    "#create url build - from the youtube v3 documentation\n",
    "youtube = build('youtube','v3',developerKey = api_key)"
   ]
  },
  {
   "cell_type": "code",
   "execution_count": 30,
   "id": "e6712ab2",
   "metadata": {},
   "outputs": [],
   "source": [
    "#Gather channel Ids with game + gaming as the query \n",
    "channel_request =youtube.search().list(part = 'id', type = 'channel', q='game + gaming + letsplay',\n",
    "                                      regionCode= 'US',publishedBefore=\"2022-12-31T23:59:59Z\")\n",
    "channelId = channel_request.execute()\n",
    "#create a list of all the channelIDs\n",
    "#create a loop so that we can make the list\n",
    "channels=[]\n",
    "channel = channelId['items'][1]['id']['channelId']"
   ]
  },
  {
   "cell_type": "code",
   "execution_count": 32,
   "id": "cebfed75",
   "metadata": {},
   "outputs": [],
   "source": [
    "#Loop through the channel lists \n",
    "#need:title, subscriberCount, videoCount, viewCount\n",
    "requests = youtube.channels().list(part = ['statistics, snippet'],id=channel)\n",
    "response = requests.execute()\n",
    "channel_name = response['items'][0]['snippet']['title']\n",
    "sub_count = response['items'][0]['statistics']['subscriberCount']\n",
    "video_count = response['items'][0]['statistics']['videoCount']\n",
    "view_count = response['items'][0]['statistics']['viewCount']"
   ]
  },
  {
   "cell_type": "code",
   "execution_count": 34,
   "id": "57084d4d",
   "metadata": {},
   "outputs": [
    {
     "data": {
      "text/html": [
       "<div>\n",
       "<style scoped>\n",
       "    .dataframe tbody tr th:only-of-type {\n",
       "        vertical-align: middle;\n",
       "    }\n",
       "\n",
       "    .dataframe tbody tr th {\n",
       "        vertical-align: top;\n",
       "    }\n",
       "\n",
       "    .dataframe thead th {\n",
       "        text-align: right;\n",
       "    }\n",
       "</style>\n",
       "<table border=\"1\" class=\"dataframe\">\n",
       "  <thead>\n",
       "    <tr style=\"text-align: right;\">\n",
       "      <th></th>\n",
       "      <th>Channel Name</th>\n",
       "      <th>Subscriber Count</th>\n",
       "      <th>video Count</th>\n",
       "      <th>View Count</th>\n",
       "    </tr>\n",
       "  </thead>\n",
       "  <tbody>\n",
       "    <tr>\n",
       "      <th>0</th>\n",
       "      <td>Let's Game It Out</td>\n",
       "      <td>5020000</td>\n",
       "      <td>694</td>\n",
       "      <td>1127210098</td>\n",
       "    </tr>\n",
       "  </tbody>\n",
       "</table>\n",
       "</div>"
      ],
      "text/plain": [
       "        Channel Name Subscriber Count video Count  View Count\n",
       "0  Let's Game It Out          5020000         694  1127210098"
      ]
     },
     "execution_count": 34,
     "metadata": {},
     "output_type": "execute_result"
    }
   ],
   "source": [
    "youtube_df = pd.DataFrame({'Channel Name':[channel_name],\n",
    "                           'Subscriber Count': [sub_count],\n",
    "                           'video Count':[video_count],\n",
    "                           'View Count':[view_count]})\n",
    "youtube_df"
   ]
  },
  {
   "cell_type": "code",
   "execution_count": null,
   "id": "93d14705",
   "metadata": {},
   "outputs": [],
   "source": []
  }
 ],
 "metadata": {
  "kernelspec": {
   "display_name": "PythonData",
   "language": "python",
   "name": "pythondata"
  },
  "language_info": {
   "codemirror_mode": {
    "name": "ipython",
    "version": 3
   },
   "file_extension": ".py",
   "mimetype": "text/x-python",
   "name": "python",
   "nbconvert_exporter": "python",
   "pygments_lexer": "ipython3",
   "version": "3.7.7"
  }
 },
 "nbformat": 4,
 "nbformat_minor": 5
}
