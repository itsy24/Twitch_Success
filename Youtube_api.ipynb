{
 "cells": [
  {
   "cell_type": "code",
   "execution_count": 1,
   "id": "13fd026e",
   "metadata": {},
   "outputs": [],
   "source": [
    "# Import dependencies\n",
    "from googleapiclient.discovery import build\n",
    "import pandas as pd\n",
    "import requests\n",
    "import pprint\n",
    "from tqdm import tqdm\n",
    "\n",
    "# Import api key\n",
    "from api_key import api_key2\n",
    "\n",
    "#create url build - from the youtube v3 documentation\n",
    "youtube = build('youtube','v3',developerKey = api_key2)"
   ]
  },
  {
   "cell_type": "code",
   "execution_count": 42,
   "id": "e6712ab2",
   "metadata": {},
   "outputs": [
    {
     "name": "stdout",
     "output_type": "stream",
     "text": [
      "['HThwk-w56JM', 'kuMgTipfmzI', '9Xlb_Bl3pqg', '117O7xDpAOU', 'hm9jgLWGs0E', 'KMgqMOgdJRQ', 'lQz6xhlOt18', '3Rp2Ysxnov0', 'KHoOrFdgYR8', 'RQ45xIA6Uso', 'nv5SaXWgK9o', 'sidAhiy89b0', 'RjQVx4O47Qw', '2VR02hSs3zs', 'cpAIa_CLOTg', 'ufLk9KvaC_E', 'T-mh8gFNI0c', 'x0nuURWNCBU', 'XW99sBf4BUI', 'G_kfCjvG5XA', 'P9CKh7TzJUw', 'yOswjTo4UHA', '0wLljngvrpw', '4pgX60AAIYo', 'fK6VQtTO-Qs', 'R9U9M47hMpA', 'NFacil--RUo', 'QJf5EGYZtAQ', '7EXhIjYDY4g', 'Yr5GQgkBbSk', 'cizYhch5Q6Q', 'oC88jsc-wpg', 'Mn62v29m-F4', 'uIWvGibZgUU', 'o50d-w1N3n4', 'ryNHc7DSurI', 'cuC5Bo7PQq4', '2Ep8f-ChSbE', '5GJfsSOtjiw', 'vOKKC-9nfZQ', '_vI0Wmxc2cY', '-jWwP1yuNOc', 'WZwFJ4g6OjM', 'kjfRoT-Rs4w', 'LfGpHjfu8t0', 'CfUiHWwSqNQ', 'TOxuNbXrO28', 'JMIDXvIlYR4', 'U8y3BfDSG18', '70zKSO8i-Uk']\n"
     ]
    }
   ],
   "source": [
    "#Gather channel Ids with game + gaming as the query channel\n",
    "video_request =youtube.search().list(part = 'id', type = 'video', \n",
    "                                       q='game|gaming|lets play|valorant',\n",
    "                                      regionCode= 'US',publishedBefore=\"2022-12-31T23:59:59Z\",\n",
    "                                      maxResults = 50, order = 'viewCount', \n",
    "                                       videoCategoryId = 20) # 20 represents Gaming ID for YT\n",
    "videoId = channel_request.execute()\n",
    "video_list=[]\n",
    "\n",
    "# FIX THIS SHIT\n",
    "for i in range(0,50):\n",
    "    video = videoId['items'][i]['id']['videoId']\n",
    "    video_list.append(video)"
   ]
  },
  {
   "cell_type": "code",
   "execution_count": 69,
   "id": "cebfed75",
   "metadata": {},
   "outputs": [
    {
     "name": "stderr",
     "output_type": "stream",
     "text": [
      "100%|██████████████████████████████████████████████████████████████████████████████████| 50/50 [00:09<00:00,  5.53it/s]"
     ]
    },
    {
     "name": "stdout",
     "output_type": "stream",
     "text": [
      "['UCeQeCJiSIm32mTWOPgB0wTw', 'UCelMeixAOTs2OQAAi9wU8-g', 'UCeQeCJiSIm32mTWOPgB0wTw', 'UCC-RHF_77zQdKcA75hr5oTQ', 'UC86vJyoMR3ILzPBLKwYI2nQ', 'UC0DZmkupLYwc0yDsfocLh0A', 'UC-lHJZR3Gqxm24_Vd_AJ5Yw', 'UCC-RHF_77zQdKcA75hr5oTQ', 'UC0v-tlzsn0QZwJnkiaUSJVQ', 'UCC-RHF_77zQdKcA75hr5oTQ', 'UCC-RHF_77zQdKcA75hr5oTQ', 'UCC-RHF_77zQdKcA75hr5oTQ', 'UCC-RHF_77zQdKcA75hr5oTQ', 'UCC-RHF_77zQdKcA75hr5oTQ', 'UCC-RHF_77zQdKcA75hr5oTQ', 'UCelMeixAOTs2OQAAi9wU8-g', 'UCC-RHF_77zQdKcA75hr5oTQ', 'UCC-RHF_77zQdKcA75hr5oTQ', 'UC-lHJZR3Gqxm24_Vd_AJ5Yw', 'UCb69PhsHzsorirJDlxaIXlg', 'UC8JiX8bJM5DzU41LyHpsYtA', 'UCC-RHF_77zQdKcA75hr5oTQ', 'UC-lHJZR3Gqxm24_Vd_AJ5Yw', 'UCh7EqOZt7EvO2osuKbIlpGg', 'UCelMeixAOTs2OQAAi9wU8-g', 'UC7_YxT-KID8kRbqZo7MyscQ', 'UCC-RHF_77zQdKcA75hr5oTQ', 'UCuL3VLXRGqpS4tJPpYJjwLg', 'UCelMeixAOTs2OQAAi9wU8-g', 'UCC-RHF_77zQdKcA75hr5oTQ', 'UCIX3yM9t4sCewZS9XsqJb9Q', 'UCo_IB5145EVNcf8hw1Kku7w', 'UCepFwTchUYYvmDnrCB-9lsg', 'UCD5EC8IWhOFalXtePCkhJTA', 'UCX8pnu3DYUnx8qy8V_c6oHg', 'UCelMeixAOTs2OQAAi9wU8-g', 'UCC-RHF_77zQdKcA75hr5oTQ', 'UC0v-tlzsn0QZwJnkiaUSJVQ', 'UCelMeixAOTs2OQAAi9wU8-g', 'UCIhQ0AFnLJ_dzjZ-FNgjH4A', 'UC-lHJZR3Gqxm24_Vd_AJ5Yw', 'UCp1JDmORpR7wxtvCijaSF8w', 'UCm-X6o81nRsXQTmqpyArkBQ', 'UCelMeixAOTs2OQAAi9wU8-g', 'UCC-RHF_77zQdKcA75hr5oTQ', 'UCX8pnu3DYUnx8qy8V_c6oHg', 'UCEHf6KUY7Zw7hlXQ7hDemwQ', 'UCTkXRDQl0luXxVQrRQvWS6w', 'UCelMeixAOTs2OQAAi9wU8-g', 'UCaA8TUWM6TJ5wj-DH60VEFg']\n"
     ]
    },
    {
     "name": "stderr",
     "output_type": "stream",
     "text": [
      "\n"
     ]
    }
   ],
   "source": [
    "#Loop through the channel lists \n",
    "#need:title, subscriberCount, videoCount, viewCount\n",
    "channel_ids =[]\n",
    "for ID in tqdm(video_list):\n",
    "    requests_video = youtube.videos().list(part = 'snippet',id=ID)\n",
    "    response_video = requests_video.execute()\n",
    "    channel_ID = response_video['items'][0]['snippet']['channelId']\n",
    "    channel_ids.append(channel_ID)"
   ]
  },
  {
   "cell_type": "code",
   "execution_count": 88,
   "id": "705f3ea3",
   "metadata": {},
   "outputs": [
    {
     "name": "stderr",
     "output_type": "stream",
     "text": [
      "100%|██████████████████████████████████████████████████████████████████████████████████| 50/50 [00:08<00:00,  5.63it/s]\n"
     ]
    }
   ],
   "source": [
    "channels =[]\n",
    "for ids in tqdm(channel_ids):\n",
    "    requests_channel = youtube.channels().list(part = ['statistics','snippet'],id=ids)\n",
    "    response_channel = requests_channel.execute()\n",
    "    channel_name = response_channel['items'][0]['snippet']['title']\n",
    "    sub_count = response_channel['items'][0]['statistics']['subscriberCount']\n",
    "    video_count = response_channel['items'][0]['statistics']['videoCount']\n",
    "    view_count = response_channel['items'][0]['statistics']['viewCount']\n",
    "\n",
    "    channels.append({'Youtube Channel': channel_name,\n",
    "                     'Subscriber Count': sub_count,\n",
    "                     'Video Count':video_count,\n",
    "                     'View Count':view_count})\n",
    "\n",
    "                     "
   ]
  },
  {
   "cell_type": "code",
   "execution_count": 129,
   "id": "57084d4d",
   "metadata": {},
   "outputs": [
    {
     "data": {
      "text/html": [
       "<div>\n",
       "<style scoped>\n",
       "    .dataframe tbody tr th:only-of-type {\n",
       "        vertical-align: middle;\n",
       "    }\n",
       "\n",
       "    .dataframe tbody tr th {\n",
       "        vertical-align: top;\n",
       "    }\n",
       "\n",
       "    .dataframe thead th {\n",
       "        text-align: right;\n",
       "    }\n",
       "</style>\n",
       "<table border=\"1\" class=\"dataframe\">\n",
       "  <thead>\n",
       "    <tr style=\"text-align: right;\">\n",
       "      <th></th>\n",
       "      <th>Subscriber Count</th>\n",
       "      <th>Video Count</th>\n",
       "      <th>View Count</th>\n",
       "    </tr>\n",
       "    <tr>\n",
       "      <th>Youtube Channel</th>\n",
       "      <th></th>\n",
       "      <th></th>\n",
       "      <th></th>\n",
       "    </tr>\n",
       "  </thead>\n",
       "  <tbody>\n",
       "    <tr>\n",
       "      <th>CookieSwirlC</th>\n",
       "      <td>19300000</td>\n",
       "      <td>3699</td>\n",
       "      <td>22506899700</td>\n",
       "    </tr>\n",
       "    <tr>\n",
       "      <th>FGTeeV</th>\n",
       "      <td>21800000</td>\n",
       "      <td>1681</td>\n",
       "      <td>23552221212</td>\n",
       "    </tr>\n",
       "    <tr>\n",
       "      <th>Jelly</th>\n",
       "      <td>23400000</td>\n",
       "      <td>5924</td>\n",
       "      <td>14581905273</td>\n",
       "    </tr>\n",
       "    <tr>\n",
       "      <th>PewDiePie</th>\n",
       "      <td>111000000</td>\n",
       "      <td>4705</td>\n",
       "      <td>28954803456</td>\n",
       "    </tr>\n",
       "    <tr>\n",
       "      <th>REACT</th>\n",
       "      <td>20000000</td>\n",
       "      <td>4124</td>\n",
       "      <td>13070599737</td>\n",
       "    </tr>\n",
       "    <tr>\n",
       "      <th>Combo Panda</th>\n",
       "      <td>2440000</td>\n",
       "      <td>1027</td>\n",
       "      <td>1883787767</td>\n",
       "    </tr>\n",
       "    <tr>\n",
       "      <th>RajmanGaming HD</th>\n",
       "      <td>1130000</td>\n",
       "      <td>10387</td>\n",
       "      <td>959512092</td>\n",
       "    </tr>\n",
       "    <tr>\n",
       "      <th>Lachlan</th>\n",
       "      <td>14800000</td>\n",
       "      <td>3779</td>\n",
       "      <td>5165185183</td>\n",
       "    </tr>\n",
       "    <tr>\n",
       "      <th>Markiplier</th>\n",
       "      <td>34600000</td>\n",
       "      <td>5425</td>\n",
       "      <td>19763583933</td>\n",
       "    </tr>\n",
       "    <tr>\n",
       "      <th>Honey</th>\n",
       "      <td>2080000</td>\n",
       "      <td>490</td>\n",
       "      <td>1275743181</td>\n",
       "    </tr>\n",
       "    <tr>\n",
       "      <th>The Game Theorists</th>\n",
       "      <td>17200000</td>\n",
       "      <td>606</td>\n",
       "      <td>3583057223</td>\n",
       "    </tr>\n",
       "    <tr>\n",
       "      <th>Tonde Gamer</th>\n",
       "      <td>7940000</td>\n",
       "      <td>1839</td>\n",
       "      <td>1555984627</td>\n",
       "    </tr>\n",
       "    <tr>\n",
       "      <th>Techno Gamerz</th>\n",
       "      <td>32100000</td>\n",
       "      <td>911</td>\n",
       "      <td>8856226270</td>\n",
       "    </tr>\n",
       "    <tr>\n",
       "      <th>TheSkylanderBoy AndGirl</th>\n",
       "      <td>2690000</td>\n",
       "      <td>856</td>\n",
       "      <td>2394853805</td>\n",
       "    </tr>\n",
       "    <tr>\n",
       "      <th>Flamingo</th>\n",
       "      <td>11600000</td>\n",
       "      <td>2364</td>\n",
       "      <td>9785876585</td>\n",
       "    </tr>\n",
       "    <tr>\n",
       "      <th>TmarTn</th>\n",
       "      <td>3280000</td>\n",
       "      <td>2574</td>\n",
       "      <td>843209963</td>\n",
       "    </tr>\n",
       "    <tr>\n",
       "      <th>Dream</th>\n",
       "      <td>31500000</td>\n",
       "      <td>113</td>\n",
       "      <td>2882724452</td>\n",
       "    </tr>\n",
       "    <tr>\n",
       "      <th>RON GAMING</th>\n",
       "      <td>4520000</td>\n",
       "      <td>1800</td>\n",
       "      <td>1353562071</td>\n",
       "    </tr>\n",
       "  </tbody>\n",
       "</table>\n",
       "</div>"
      ],
      "text/plain": [
       "                         Subscriber Count Video Count   View Count\n",
       "Youtube Channel                                                   \n",
       "CookieSwirlC                     19300000        3699  22506899700\n",
       "FGTeeV                           21800000        1681  23552221212\n",
       "Jelly                            23400000        5924  14581905273\n",
       "PewDiePie                       111000000        4705  28954803456\n",
       "REACT                            20000000        4124  13070599737\n",
       "Combo Panda                       2440000        1027   1883787767\n",
       "RajmanGaming HD                   1130000       10387    959512092\n",
       "Lachlan                          14800000        3779   5165185183\n",
       "Markiplier                       34600000        5425  19763583933\n",
       "Honey                             2080000         490   1275743181\n",
       "The Game Theorists               17200000         606   3583057223\n",
       "Tonde Gamer                       7940000        1839   1555984627\n",
       "Techno Gamerz                    32100000         911   8856226270\n",
       "TheSkylanderBoy AndGirl           2690000         856   2394853805\n",
       "Flamingo                         11600000        2364   9785876585\n",
       "TmarTn                            3280000        2574    843209963\n",
       "Dream                            31500000         113   2882724452\n",
       "RON GAMING                        4520000        1800   1353562071"
      ]
     },
     "execution_count": 129,
     "metadata": {},
     "output_type": "execute_result"
    }
   ],
   "source": [
    "youtube = pd.DataFrame(channels)\n",
    "youtube = youtube.drop_duplicates()\n",
    "youtube = youtube.astype({'Subscriber Count':int})\n",
    "youtube = youtube.loc[(youtube['Subscriber Count']>=1000000)]\n",
    "youtube = youtube.set_index('Youtube Channel')\n",
    "youtube"
   ]
  },
  {
   "cell_type": "code",
   "execution_count": null,
   "id": "cca27ca6",
   "metadata": {},
   "outputs": [],
   "source": []
  }
 ],
 "metadata": {
  "kernelspec": {
   "display_name": "PythonData",
   "language": "python",
   "name": "pythondata"
  },
  "language_info": {
   "codemirror_mode": {
    "name": "ipython",
    "version": 3
   },
   "file_extension": ".py",
   "mimetype": "text/x-python",
   "name": "python",
   "nbconvert_exporter": "python",
   "pygments_lexer": "ipython3",
   "version": "3.7.7"
  }
 },
 "nbformat": 4,
 "nbformat_minor": 5
}
