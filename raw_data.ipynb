{
 "cells": [
  {
   "cell_type": "code",
   "execution_count": 1,
   "metadata": {},
   "outputs": [],
   "source": [
    "# libraries\n",
    "import os\n",
    "import pandas as pd\n",
    "import matplotlib.pyplot as plt\n",
    "from scipy.stats import linregress\n",
    "from jupyterthemes import jtplot\n",
    "#sets plot styles to match jupyter theme\n",
    "jtplot.style('grade3')\n",
    "import numpy as np\n",
    "import pprint"
   ]
  },
  {
   "cell_type": "code",
   "execution_count": 2,
   "metadata": {
    "scrolled": true
   },
   "outputs": [
    {
     "data": {
      "text/plain": [
       "Index(['Unnamed: 0', 'Unnamed: 1', 'Channel', 'Watch time (mins)',\n",
       "       'Stream time (mins)', 'Peak viewers', 'Average viewers', 'Followers',\n",
       "       'Followers gained', 'Views gained', 'Partnered', 'Mature', 'Language',\n",
       "       'Year'],\n",
       "      dtype='object')"
      ]
     },
     "execution_count": 2,
     "metadata": {},
     "output_type": "execute_result"
    }
   ],
   "source": [
    "# Set the folder path where the CSV files are located\n",
    "folderpath = 'Channel_Resources'\n",
    "# Get a list of all CSV files in the folder\n",
    "csv_files = [f for f in os.listdir(folderpath) if f.endswith('.csv')]\n",
    "# Loop through each CSV file and read it into a DataFrame\n",
    "dfs = []\n",
    "for csv_file in csv_files:\n",
    "    file_path = os.path.join(folderpath, csv_file)\n",
    "    df = pd.read_csv(file_path)\n",
    "    dfs.append(df)\n",
    "\n",
    "# Concatenate all DataFrames into a single DataFrame\n",
    "combined_channel_df = pd.concat(dfs, ignore_index=True)\n",
    "\n",
    "\n",
    "# Set the folder path where the CSV files are located\n",
    "folderpath = 'Category_Resources'\n",
    "# Get a list of all CSV files in the folder\n",
    "csv_files = [f for f in os.listdir(folderpath) if f.endswith('.csv')]\n",
    "# Loop through each CSV file and read it into a DataFrame\n",
    "dfs = []\n",
    "for csv_file in csv_files:\n",
    "    file_path = os.path.join(folderpath, csv_file)\n",
    "    df = pd.read_csv(file_path)\n",
    "    dfs.append(df)\n",
    "\n",
    "# Concatenate all DataFrames into a single DataFrame\n",
    "combined_cat_df = pd.concat(dfs, ignore_index=True)\n",
    "combined_channel_df.columns\n"
   ]
  },
  {
   "cell_type": "code",
   "execution_count": 3,
   "metadata": {
    "scrolled": true
   },
   "outputs": [],
   "source": [
    "channel_stats = combined_channel_df[[\"Year\", \"Channel\", \"Watch time (mins)\", \"Stream time (mins)\", \"Average viewers\", \"Followers\", \"Followers gained\", \"Language\"]]\n"
   ]
  },
  {
   "cell_type": "code",
   "execution_count": 4,
   "metadata": {
    "scrolled": true
   },
   "outputs": [],
   "source": [
    "cat_stats = combined_cat_df[[\"Year\", \"Game\", \"Change watch time (mins)\", \"Change stream time (mins)\", \"Change average channels\", \"Change average viewers\", \"Language\"]]\n"
   ]
  },
  {
   "cell_type": "code",
   "execution_count": 5,
   "metadata": {},
   "outputs": [],
   "source": [
    "channel_stats.to_csv(\"channel_stats.csv\", index = False)\n",
    "cat_stats.to_csv(\"cat_stats.csv\", index = False)"
   ]
  }
 ],
 "metadata": {
  "anaconda-cloud": {},
  "kernel_info": {
   "name": "python3"
  },
  "kernelspec": {
   "display_name": "Python 3 (ipykernel)",
   "language": "python",
   "name": "python3"
  },
  "language_info": {
   "codemirror_mode": {
    "name": "ipython",
    "version": 3
   },
   "file_extension": ".py",
   "mimetype": "text/x-python",
   "name": "python",
   "nbconvert_exporter": "python",
   "pygments_lexer": "ipython3",
   "version": "3.8.16"
  },
  "latex_envs": {
   "LaTeX_envs_menu_present": true,
   "autoclose": false,
   "autocomplete": true,
   "bibliofile": "biblio.bib",
   "cite_by": "apalike",
   "current_citInitial": 1,
   "eqLabelWithNumbers": true,
   "eqNumInitial": 1,
   "hotkeys": {
    "equation": "Ctrl-E",
    "itemize": "Ctrl-I"
   },
   "labels_anchors": false,
   "latex_user_defs": false,
   "report_style_numbering": false,
   "user_envs_cfg": false
  },
  "nteract": {
   "version": "0.8.4"
  },
  "vscode": {
   "interpreter": {
    "hash": "31f2aee4e71d21fbe5cf8b01ff0e069b9275f58929596ceb00d14d90e3e16cd6"
   }
  }
 },
 "nbformat": 4,
 "nbformat_minor": 4
}
