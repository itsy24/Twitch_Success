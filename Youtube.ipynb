{
 "cells": [
  {
   "cell_type": "code",
   "execution_count": 3,
   "id": "13fd026e",
   "metadata": {},
   "outputs": [],
   "source": [
    "# Import dependencies\n",
    "from googleapiclient.discovery import build\n",
    "import pandas as pd\n",
    "# Import api key\n",
    "from api_key import api_key"
   ]
  },
  {
   "cell_type": "code",
   "execution_count": null,
   "id": "cebfed75",
   "metadata": {},
   "outputs": [],
   "source": [
    "requests = youtube.channels().list(part = 'statistics',categoryID='Gaming'\n",
    "                                   publishedBefore='2022-12-31', publishedafter='2020-03-17'\n",
    "                                  maxResults= 10)\n",
    "response = requests.execute()"
   ]
  }
 ],
 "metadata": {
  "kernelspec": {
   "display_name": "PythonData",
   "language": "python",
   "name": "pythondata"
  },
  "language_info": {
   "codemirror_mode": {
    "name": "ipython",
    "version": 3
   },
   "file_extension": ".py",
   "mimetype": "text/x-python",
   "name": "python",
   "nbconvert_exporter": "python",
   "pygments_lexer": "ipython3",
   "version": "3.7.7"
  }
 },
 "nbformat": 4,
 "nbformat_minor": 5
}
